{
 "cells": [
  {
   "cell_type": "code",
   "execution_count": 2,
   "metadata": {},
   "outputs": [],
   "source": [
    "import pandas as pd\n",
    "\n",
    "apartments = pd.read_csv('../data/Apartments.csv')\n",
    "employers = pd.read_csv('../data/Employers.csv')\n",
    "pubs = pd.read_csv('../data/Pubs.csv')\n",
    "restaurants = pd.read_csv('../data/Restaurants.csv')\n",
    "schools = pd.read_csv('../data/Schools.csv')"
   ]
  },
  {
   "cell_type": "code",
   "execution_count": 3,
   "metadata": {},
   "outputs": [],
   "source": [
    "apt = apartments[['apartmentId', 'location', 'buildingId']].copy().rename(columns={\"apartmentId\":\"id\"})\n",
    "apt['location'] = apt['location'].str[7:-1].apply(lambda x: x.split(' ')).apply(lambda x: [float(z) for z in x])\n",
    "apt['buildingType'] = 'apartment'\n",
    "apt = apt.reindex(['buildingType', 'id', 'buildingId', 'location'], axis=1)"
   ]
  },
  {
   "cell_type": "code",
   "execution_count": 4,
   "metadata": {},
   "outputs": [],
   "source": [
    "emp = employers[['employerId', 'location', 'buildingId']].copy().rename(columns={\"employerId\":\"id\"})\n",
    "emp['location'] = emp['location'].str[7:-1].apply(lambda x: x.split(' ')).apply(lambda x: [float(z) for z in x])\n",
    "emp['buildingType'] = 'employer'\n",
    "emp = emp.reindex(['buildingType', 'id', 'buildingId', 'location'], axis=1)"
   ]
  },
  {
   "cell_type": "code",
   "execution_count": 5,
   "metadata": {},
   "outputs": [],
   "source": [
    "pub = pubs[['pubId', 'location', 'buildingId']].copy().rename(columns={\"pubId\":\"id\"})\n",
    "pub['location'] = pub['location'].str[7:-1].apply(lambda x: x.split(' ')).apply(lambda x: [float(z) for z in x])\n",
    "pub['buildingType'] = 'pub'\n",
    "pub = pub.reindex(['buildingType', 'id', 'buildingId', 'location'], axis=1)"
   ]
  },
  {
   "cell_type": "code",
   "execution_count": 6,
   "metadata": {},
   "outputs": [],
   "source": [
    "rest = restaurants[['restaurantId', 'location', 'buildingId']].copy().rename(columns={\"restaurantId\":\"id\"})\n",
    "rest['location'] = rest['location'].str[7:-1].apply(lambda x: x.split(' ')).apply(lambda x: [float(z) for z in x])\n",
    "rest['buildingType'] = 'restaurant'\n",
    "rest = rest.reindex(['buildingType', 'id', 'buildingId', 'location'], axis=1)"
   ]
  },
  {
   "cell_type": "code",
   "execution_count": 7,
   "metadata": {},
   "outputs": [],
   "source": [
    "sch = schools[['schoolId', 'location', 'buildingId']].copy().rename(columns={\"schoolId\":\"id\"})\n",
    "sch['location'] = sch['location'].str[7:-1].apply(lambda x: x.split(' ')).apply(lambda x: [float(z) for z in x])\n",
    "sch['buildingType'] = 'school'\n",
    "sch = sch.reindex(['buildingType', 'id', 'buildingId', 'location'], axis=1)"
   ]
  },
  {
   "cell_type": "code",
   "execution_count": 8,
   "metadata": {},
   "outputs": [],
   "source": [
    "centers = pd.concat([apt, emp, pub, rest, sch], ignore_index=True)"
   ]
  },
  {
   "cell_type": "code",
   "execution_count": 9,
   "metadata": {},
   "outputs": [
    {
     "data": {
      "text/html": [
       "<div>\n",
       "<style scoped>\n",
       "    .dataframe tbody tr th:only-of-type {\n",
       "        vertical-align: middle;\n",
       "    }\n",
       "\n",
       "    .dataframe tbody tr th {\n",
       "        vertical-align: top;\n",
       "    }\n",
       "\n",
       "    .dataframe thead th {\n",
       "        text-align: right;\n",
       "    }\n",
       "</style>\n",
       "<table border=\"1\" class=\"dataframe\">\n",
       "  <thead>\n",
       "    <tr style=\"text-align: right;\">\n",
       "      <th></th>\n",
       "      <th>buildingType</th>\n",
       "      <th>id</th>\n",
       "      <th>buildingId</th>\n",
       "      <th>location</th>\n",
       "    </tr>\n",
       "  </thead>\n",
       "  <tbody>\n",
       "    <tr>\n",
       "      <th>1770</th>\n",
       "      <td>pub</td>\n",
       "      <td>442</td>\n",
       "      <td>556</td>\n",
       "      <td>[964.4380231713202, 3991.603473784208]</td>\n",
       "    </tr>\n",
       "    <tr>\n",
       "      <th>1771</th>\n",
       "      <td>pub</td>\n",
       "      <td>443</td>\n",
       "      <td>29</td>\n",
       "      <td>[1809.880173357865, 4339.172426035451]</td>\n",
       "    </tr>\n",
       "    <tr>\n",
       "      <th>1772</th>\n",
       "      <td>pub</td>\n",
       "      <td>444</td>\n",
       "      <td>1012</td>\n",
       "      <td>[770.4279044387976, 932.5852003214752]</td>\n",
       "    </tr>\n",
       "    <tr>\n",
       "      <th>1773</th>\n",
       "      <td>pub</td>\n",
       "      <td>892</td>\n",
       "      <td>502</td>\n",
       "      <td>[-1524.9573211662105, 3815.271490114369]</td>\n",
       "    </tr>\n",
       "    <tr>\n",
       "      <th>1774</th>\n",
       "      <td>pub</td>\n",
       "      <td>893</td>\n",
       "      <td>164</td>\n",
       "      <td>[-1608.766411449925, 3886.4924784954583]</td>\n",
       "    </tr>\n",
       "    <tr>\n",
       "      <th>1775</th>\n",
       "      <td>pub</td>\n",
       "      <td>894</td>\n",
       "      <td>238</td>\n",
       "      <td>[-1702.5378155541193, 3865.477090848479]</td>\n",
       "    </tr>\n",
       "    <tr>\n",
       "      <th>1776</th>\n",
       "      <td>pub</td>\n",
       "      <td>1342</td>\n",
       "      <td>429</td>\n",
       "      <td>[-260.45747053139064, 5026.150804179361]</td>\n",
       "    </tr>\n",
       "    <tr>\n",
       "      <th>1777</th>\n",
       "      <td>pub</td>\n",
       "      <td>1343</td>\n",
       "      <td>489</td>\n",
       "      <td>[-501.42676062779447, 3551.572638649489]</td>\n",
       "    </tr>\n",
       "    <tr>\n",
       "      <th>1778</th>\n",
       "      <td>pub</td>\n",
       "      <td>1344</td>\n",
       "      <td>585</td>\n",
       "      <td>[-225.9209866450221, 3878.053697626113]</td>\n",
       "    </tr>\n",
       "    <tr>\n",
       "      <th>1779</th>\n",
       "      <td>pub</td>\n",
       "      <td>1798</td>\n",
       "      <td>953</td>\n",
       "      <td>[-3209.738139187618, 6487.657688065099]</td>\n",
       "    </tr>\n",
       "    <tr>\n",
       "      <th>1780</th>\n",
       "      <td>pub</td>\n",
       "      <td>1799</td>\n",
       "      <td>234</td>\n",
       "      <td>[-3903.194075780787, 5967.8369837734845]</td>\n",
       "    </tr>\n",
       "    <tr>\n",
       "      <th>1781</th>\n",
       "      <td>pub</td>\n",
       "      <td>1800</td>\n",
       "      <td>627</td>\n",
       "      <td>[-3796.1198513891923, 6367.922072582076]</td>\n",
       "    </tr>\n",
       "  </tbody>\n",
       "</table>\n",
       "</div>"
      ],
      "text/plain": [
       "     buildingType    id  buildingId                                  location\n",
       "1770          pub   442         556    [964.4380231713202, 3991.603473784208]\n",
       "1771          pub   443          29    [1809.880173357865, 4339.172426035451]\n",
       "1772          pub   444        1012    [770.4279044387976, 932.5852003214752]\n",
       "1773          pub   892         502  [-1524.9573211662105, 3815.271490114369]\n",
       "1774          pub   893         164  [-1608.766411449925, 3886.4924784954583]\n",
       "1775          pub   894         238  [-1702.5378155541193, 3865.477090848479]\n",
       "1776          pub  1342         429  [-260.45747053139064, 5026.150804179361]\n",
       "1777          pub  1343         489  [-501.42676062779447, 3551.572638649489]\n",
       "1778          pub  1344         585   [-225.9209866450221, 3878.053697626113]\n",
       "1779          pub  1798         953   [-3209.738139187618, 6487.657688065099]\n",
       "1780          pub  1799         234  [-3903.194075780787, 5967.8369837734845]\n",
       "1781          pub  1800         627  [-3796.1198513891923, 6367.922072582076]"
      ]
     },
     "execution_count": 9,
     "metadata": {},
     "output_type": "execute_result"
    }
   ],
   "source": [
    "centers.to_json('../data/location_points.json', orient='records')"
   ]
  }
 ],
 "metadata": {
  "kernelspec": {
   "display_name": "Python 3 (ipykernel)",
   "language": "python",
   "name": "python3"
  },
  "language_info": {
   "codemirror_mode": {
    "name": "ipython",
    "version": 3
   },
   "file_extension": ".py",
   "mimetype": "text/x-python",
   "name": "python",
   "nbconvert_exporter": "python",
   "pygments_lexer": "ipython3",
   "version": "3.9.12"
  }
 },
 "nbformat": 4,
 "nbformat_minor": 2
}
